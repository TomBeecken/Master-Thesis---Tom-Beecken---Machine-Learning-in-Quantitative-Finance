{
 "cells": [
  {
   "cell_type": "code",
   "execution_count": 3,
   "metadata": {},
   "outputs": [],
   "source": [
    "# code \n",
    "import pandas as pd \n",
    "import numpy as np \n",
    "import plotly.express as px \n",
    "import plotly.graph_objects as go \n",
    "import os"
   ]
  },
  {
   "cell_type": "code",
   "execution_count": 4,
   "metadata": {},
   "outputs": [
    {
     "data": {
      "text/html": [
       "<div>\n",
       "<style scoped>\n",
       "    .dataframe tbody tr th:only-of-type {\n",
       "        vertical-align: middle;\n",
       "    }\n",
       "\n",
       "    .dataframe tbody tr th {\n",
       "        vertical-align: top;\n",
       "    }\n",
       "\n",
       "    .dataframe thead th {\n",
       "        text-align: right;\n",
       "    }\n",
       "</style>\n",
       "<table border=\"1\" class=\"dataframe\">\n",
       "  <thead>\n",
       "    <tr style=\"text-align: right;\">\n",
       "      <th></th>\n",
       "      <th>innovation</th>\n",
       "      <th>integrity</th>\n",
       "      <th>quality</th>\n",
       "      <th>respect</th>\n",
       "      <th>teamwork</th>\n",
       "      <th>tickers</th>\n",
       "    </tr>\n",
       "  </thead>\n",
       "  <tbody>\n",
       "    <tr>\n",
       "      <th>0</th>\n",
       "      <td>7.0</td>\n",
       "      <td>7.8</td>\n",
       "      <td>7.0</td>\n",
       "      <td>9.2</td>\n",
       "      <td>6.8</td>\n",
       "      <td>aapl</td>\n",
       "    </tr>\n",
       "    <tr>\n",
       "      <th>1</th>\n",
       "      <td>7.8</td>\n",
       "      <td>7.8</td>\n",
       "      <td>7.2</td>\n",
       "      <td>8.4</td>\n",
       "      <td>7.0</td>\n",
       "      <td>acn</td>\n",
       "    </tr>\n",
       "    <tr>\n",
       "      <th>2</th>\n",
       "      <td>7.8</td>\n",
       "      <td>8.0</td>\n",
       "      <td>7.6</td>\n",
       "      <td>8.4</td>\n",
       "      <td>7.2</td>\n",
       "      <td>adp</td>\n",
       "    </tr>\n",
       "    <tr>\n",
       "      <th>3</th>\n",
       "      <td>7.4</td>\n",
       "      <td>7.0</td>\n",
       "      <td>6.4</td>\n",
       "      <td>8.0</td>\n",
       "      <td>6.4</td>\n",
       "      <td>amzn</td>\n",
       "    </tr>\n",
       "    <tr>\n",
       "      <th>4</th>\n",
       "      <td>7.8</td>\n",
       "      <td>7.8</td>\n",
       "      <td>7.2</td>\n",
       "      <td>8.2</td>\n",
       "      <td>7.0</td>\n",
       "      <td>blk</td>\n",
       "    </tr>\n",
       "    <tr>\n",
       "      <th>5</th>\n",
       "      <td>7.8</td>\n",
       "      <td>8.4</td>\n",
       "      <td>8.0</td>\n",
       "      <td>8.2</td>\n",
       "      <td>7.4</td>\n",
       "      <td>de</td>\n",
       "    </tr>\n",
       "    <tr>\n",
       "      <th>6</th>\n",
       "      <td>8.2</td>\n",
       "      <td>8.4</td>\n",
       "      <td>8.4</td>\n",
       "      <td>8.6</td>\n",
       "      <td>7.6</td>\n",
       "      <td>goog</td>\n",
       "    </tr>\n",
       "    <tr>\n",
       "      <th>7</th>\n",
       "      <td>8.0</td>\n",
       "      <td>7.4</td>\n",
       "      <td>6.0</td>\n",
       "      <td>8.0</td>\n",
       "      <td>6.8</td>\n",
       "      <td>gs</td>\n",
       "    </tr>\n",
       "    <tr>\n",
       "      <th>8</th>\n",
       "      <td>7.2</td>\n",
       "      <td>7.6</td>\n",
       "      <td>7.2</td>\n",
       "      <td>8.0</td>\n",
       "      <td>6.8</td>\n",
       "      <td>hd</td>\n",
       "    </tr>\n",
       "    <tr>\n",
       "      <th>9</th>\n",
       "      <td>7.8</td>\n",
       "      <td>8.2</td>\n",
       "      <td>7.8</td>\n",
       "      <td>8.4</td>\n",
       "      <td>7.4</td>\n",
       "      <td>jnj</td>\n",
       "    </tr>\n",
       "    <tr>\n",
       "      <th>10</th>\n",
       "      <td>7.6</td>\n",
       "      <td>8.2</td>\n",
       "      <td>7.8</td>\n",
       "      <td>8.4</td>\n",
       "      <td>7.2</td>\n",
       "      <td>lly</td>\n",
       "    </tr>\n",
       "    <tr>\n",
       "      <th>11</th>\n",
       "      <td>8.0</td>\n",
       "      <td>7.8</td>\n",
       "      <td>8.4</td>\n",
       "      <td>8.2</td>\n",
       "      <td>7.2</td>\n",
       "      <td>lmt</td>\n",
       "    </tr>\n",
       "    <tr>\n",
       "      <th>12</th>\n",
       "      <td>7.8</td>\n",
       "      <td>7.6</td>\n",
       "      <td>7.4</td>\n",
       "      <td>8.2</td>\n",
       "      <td>6.6</td>\n",
       "      <td>meta</td>\n",
       "    </tr>\n",
       "    <tr>\n",
       "      <th>13</th>\n",
       "      <td>8.0</td>\n",
       "      <td>8.4</td>\n",
       "      <td>8.2</td>\n",
       "      <td>8.6</td>\n",
       "      <td>7.6</td>\n",
       "      <td>msft</td>\n",
       "    </tr>\n",
       "    <tr>\n",
       "      <th>14</th>\n",
       "      <td>7.4</td>\n",
       "      <td>8.2</td>\n",
       "      <td>7.6</td>\n",
       "      <td>8.4</td>\n",
       "      <td>7.0</td>\n",
       "      <td>nke</td>\n",
       "    </tr>\n",
       "    <tr>\n",
       "      <th>15</th>\n",
       "      <td>8.8</td>\n",
       "      <td>9.0</td>\n",
       "      <td>8.2</td>\n",
       "      <td>8.8</td>\n",
       "      <td>8.6</td>\n",
       "      <td>nvda</td>\n",
       "    </tr>\n",
       "    <tr>\n",
       "      <th>16</th>\n",
       "      <td>7.6</td>\n",
       "      <td>8.4</td>\n",
       "      <td>8.4</td>\n",
       "      <td>8.6</td>\n",
       "      <td>7.4</td>\n",
       "      <td>spgi</td>\n",
       "    </tr>\n",
       "    <tr>\n",
       "      <th>17</th>\n",
       "      <td>7.4</td>\n",
       "      <td>6.6</td>\n",
       "      <td>5.6</td>\n",
       "      <td>7.6</td>\n",
       "      <td>6.0</td>\n",
       "      <td>tsla</td>\n",
       "    </tr>\n",
       "    <tr>\n",
       "      <th>18</th>\n",
       "      <td>7.4</td>\n",
       "      <td>7.4</td>\n",
       "      <td>7.0</td>\n",
       "      <td>8.2</td>\n",
       "      <td>6.8</td>\n",
       "      <td>vz</td>\n",
       "    </tr>\n",
       "    <tr>\n",
       "      <th>19</th>\n",
       "      <td>7.0</td>\n",
       "      <td>6.8</td>\n",
       "      <td>6.8</td>\n",
       "      <td>7.6</td>\n",
       "      <td>6.0</td>\n",
       "      <td>xom</td>\n",
       "    </tr>\n",
       "  </tbody>\n",
       "</table>\n",
       "</div>"
      ],
      "text/plain": [
       "    innovation  integrity  quality  respect  teamwork tickers\n",
       "0          7.0        7.8      7.0      9.2       6.8    aapl\n",
       "1          7.8        7.8      7.2      8.4       7.0     acn\n",
       "2          7.8        8.0      7.6      8.4       7.2     adp\n",
       "3          7.4        7.0      6.4      8.0       6.4    amzn\n",
       "4          7.8        7.8      7.2      8.2       7.0     blk\n",
       "5          7.8        8.4      8.0      8.2       7.4      de\n",
       "6          8.2        8.4      8.4      8.6       7.6    goog\n",
       "7          8.0        7.4      6.0      8.0       6.8      gs\n",
       "8          7.2        7.6      7.2      8.0       6.8      hd\n",
       "9          7.8        8.2      7.8      8.4       7.4     jnj\n",
       "10         7.6        8.2      7.8      8.4       7.2     lly\n",
       "11         8.0        7.8      8.4      8.2       7.2     lmt\n",
       "12         7.8        7.6      7.4      8.2       6.6    meta\n",
       "13         8.0        8.4      8.2      8.6       7.6    msft\n",
       "14         7.4        8.2      7.6      8.4       7.0     nke\n",
       "15         8.8        9.0      8.2      8.8       8.6    nvda\n",
       "16         7.6        8.4      8.4      8.6       7.4    spgi\n",
       "17         7.4        6.6      5.6      7.6       6.0    tsla\n",
       "18         7.4        7.4      7.0      8.2       6.8      vz\n",
       "19         7.0        6.8      6.8      7.6       6.0     xom"
      ]
     },
     "execution_count": 4,
     "metadata": {},
     "output_type": "execute_result"
    }
   ],
   "source": [
    "glassdoor = pd.read_excel('Glassdoor.xlsx').rename(\n",
    "    columns={'Unnamed: 6':'tickers', 'quality':'quality', 'teamwork':'teamwork'}).drop(\n",
    "    columns=['Unnamed: 0', 'Unnamed: 7']\n",
    "    )\n",
    "glassdoor['innovation'] = glassdoor['innovation'] * 2\n",
    "glassdoor['integrity'] = glassdoor['integrity'] * 2\n",
    "glassdoor['quality'] = glassdoor['quality'] * 2\n",
    "glassdoor['teamwork'] = glassdoor['teamwork'] * 2\n",
    "glassdoor['respect'] = glassdoor['respect'] * 2\n",
    "glassdoor"
   ]
  },
  {
   "cell_type": "code",
   "execution_count": 5,
   "metadata": {},
   "outputs": [],
   "source": [
    "used_tickers = glassdoor['tickers'].tolist()\n",
    "used_tickers = ['aapl', 'amzn', 'goog', 'nflx', 'meta']"
   ]
  },
  {
   "cell_type": "code",
   "execution_count": 6,
   "metadata": {},
   "outputs": [
    {
     "data": {
      "text/html": [
       "<div>\n",
       "<style scoped>\n",
       "    .dataframe tbody tr th:only-of-type {\n",
       "        vertical-align: middle;\n",
       "    }\n",
       "\n",
       "    .dataframe tbody tr th {\n",
       "        vertical-align: top;\n",
       "    }\n",
       "\n",
       "    .dataframe thead th {\n",
       "        text-align: right;\n",
       "    }\n",
       "</style>\n",
       "<table border=\"1\" class=\"dataframe\">\n",
       "  <thead>\n",
       "    <tr style=\"text-align: right;\">\n",
       "      <th></th>\n",
       "      <th>innovation</th>\n",
       "      <th>integrity</th>\n",
       "      <th>quality</th>\n",
       "      <th>respect</th>\n",
       "      <th>teamwork</th>\n",
       "      <th>tickers</th>\n",
       "    </tr>\n",
       "  </thead>\n",
       "  <tbody>\n",
       "    <tr>\n",
       "      <th>0</th>\n",
       "      <td>3.491467</td>\n",
       "      <td>4.224801</td>\n",
       "      <td>3.818328</td>\n",
       "      <td>3.691268</td>\n",
       "      <td>3.940112</td>\n",
       "      <td>aapl</td>\n",
       "    </tr>\n",
       "    <tr>\n",
       "      <th>1</th>\n",
       "      <td>5.047602</td>\n",
       "      <td>5.179350</td>\n",
       "      <td>4.679245</td>\n",
       "      <td>5.083155</td>\n",
       "      <td>5.051377</td>\n",
       "      <td>amzn</td>\n",
       "    </tr>\n",
       "    <tr>\n",
       "      <th>2</th>\n",
       "      <td>1.111508</td>\n",
       "      <td>1.736319</td>\n",
       "      <td>0.762422</td>\n",
       "      <td>1.749399</td>\n",
       "      <td>2.520642</td>\n",
       "      <td>goog</td>\n",
       "    </tr>\n",
       "    <tr>\n",
       "      <th>3</th>\n",
       "      <td>6.011773</td>\n",
       "      <td>5.579826</td>\n",
       "      <td>6.498662</td>\n",
       "      <td>5.561869</td>\n",
       "      <td>5.024163</td>\n",
       "      <td>meta</td>\n",
       "    </tr>\n",
       "    <tr>\n",
       "      <th>4</th>\n",
       "      <td>3.950396</td>\n",
       "      <td>3.225865</td>\n",
       "      <td>4.429072</td>\n",
       "      <td>2.190295</td>\n",
       "      <td>3.871813</td>\n",
       "      <td>nflx</td>\n",
       "    </tr>\n",
       "  </tbody>\n",
       "</table>\n",
       "</div>"
      ],
      "text/plain": [
       "   innovation  integrity   quality   respect  teamwork tickers\n",
       "0    3.491467   4.224801  3.818328  3.691268  3.940112    aapl\n",
       "1    5.047602   5.179350  4.679245  5.083155  5.051377    amzn\n",
       "2    1.111508   1.736319  0.762422  1.749399  2.520642    goog\n",
       "3    6.011773   5.579826  6.498662  5.561869  5.024163    meta\n",
       "4    3.950396   3.225865  4.429072  2.190295  3.871813    nflx"
      ]
     },
     "execution_count": 6,
     "metadata": {},
     "output_type": "execute_result"
    }
   ],
   "source": [
    "# read dataset from csv and perform preprocessing \n",
    "data = pd.read_excel('final_scores.xlsx')\n",
    "data = data.drop(columns=['Unnamed: 0'])\n",
    "#drop all rows that are not named in used_tickers\n",
    "data = data[data['tickers'].isin(used_tickers)]\n",
    "data = data.sort_values(by='tickers')\n",
    "data = data.reset_index(drop=True)\n",
    "data"
   ]
  },
  {
   "cell_type": "code",
   "execution_count": 7,
   "metadata": {},
   "outputs": [
    {
     "data": {
      "text/html": [
       "<div>\n",
       "<style scoped>\n",
       "    .dataframe tbody tr th:only-of-type {\n",
       "        vertical-align: middle;\n",
       "    }\n",
       "\n",
       "    .dataframe tbody tr th {\n",
       "        vertical-align: top;\n",
       "    }\n",
       "\n",
       "    .dataframe thead th {\n",
       "        text-align: right;\n",
       "    }\n",
       "</style>\n",
       "<table border=\"1\" class=\"dataframe\">\n",
       "  <thead>\n",
       "    <tr style=\"text-align: right;\">\n",
       "      <th></th>\n",
       "      <th>innovation</th>\n",
       "      <th>integrity</th>\n",
       "      <th>quality</th>\n",
       "      <th>respect</th>\n",
       "      <th>teamwork</th>\n",
       "    </tr>\n",
       "  </thead>\n",
       "  <tbody>\n",
       "    <tr>\n",
       "      <th>count</th>\n",
       "      <td>5.000000</td>\n",
       "      <td>5.000000</td>\n",
       "      <td>5.000000</td>\n",
       "      <td>5.000000</td>\n",
       "      <td>5.000000</td>\n",
       "    </tr>\n",
       "    <tr>\n",
       "      <th>mean</th>\n",
       "      <td>3.922549</td>\n",
       "      <td>3.989232</td>\n",
       "      <td>4.037546</td>\n",
       "      <td>3.655197</td>\n",
       "      <td>4.081621</td>\n",
       "    </tr>\n",
       "    <tr>\n",
       "      <th>std</th>\n",
       "      <td>1.851969</td>\n",
       "      <td>1.554044</td>\n",
       "      <td>2.085465</td>\n",
       "      <td>1.692171</td>\n",
       "      <td>1.040374</td>\n",
       "    </tr>\n",
       "    <tr>\n",
       "      <th>min</th>\n",
       "      <td>1.111508</td>\n",
       "      <td>1.736319</td>\n",
       "      <td>0.762422</td>\n",
       "      <td>1.749399</td>\n",
       "      <td>2.520642</td>\n",
       "    </tr>\n",
       "    <tr>\n",
       "      <th>25%</th>\n",
       "      <td>3.491467</td>\n",
       "      <td>3.225865</td>\n",
       "      <td>3.818328</td>\n",
       "      <td>2.190295</td>\n",
       "      <td>3.871813</td>\n",
       "    </tr>\n",
       "    <tr>\n",
       "      <th>50%</th>\n",
       "      <td>3.950396</td>\n",
       "      <td>4.224801</td>\n",
       "      <td>4.429072</td>\n",
       "      <td>3.691268</td>\n",
       "      <td>3.940112</td>\n",
       "    </tr>\n",
       "    <tr>\n",
       "      <th>75%</th>\n",
       "      <td>5.047602</td>\n",
       "      <td>5.179350</td>\n",
       "      <td>4.679245</td>\n",
       "      <td>5.083155</td>\n",
       "      <td>5.024163</td>\n",
       "    </tr>\n",
       "    <tr>\n",
       "      <th>max</th>\n",
       "      <td>6.011773</td>\n",
       "      <td>5.579826</td>\n",
       "      <td>6.498662</td>\n",
       "      <td>5.561869</td>\n",
       "      <td>5.051377</td>\n",
       "    </tr>\n",
       "  </tbody>\n",
       "</table>\n",
       "</div>"
      ],
      "text/plain": [
       "       innovation  integrity   quality   respect  teamwork\n",
       "count    5.000000   5.000000  5.000000  5.000000  5.000000\n",
       "mean     3.922549   3.989232  4.037546  3.655197  4.081621\n",
       "std      1.851969   1.554044  2.085465  1.692171  1.040374\n",
       "min      1.111508   1.736319  0.762422  1.749399  2.520642\n",
       "25%      3.491467   3.225865  3.818328  2.190295  3.871813\n",
       "50%      3.950396   4.224801  4.429072  3.691268  3.940112\n",
       "75%      5.047602   5.179350  4.679245  5.083155  5.024163\n",
       "max      6.011773   5.579826  6.498662  5.561869  5.051377"
      ]
     },
     "execution_count": 7,
     "metadata": {},
     "output_type": "execute_result"
    }
   ],
   "source": [
    "data.describe()"
   ]
  },
  {
   "cell_type": "code",
   "execution_count": 8,
   "metadata": {},
   "outputs": [],
   "source": [
    "# define variables for plot\n",
    "plt_vars = ['innovation','integrity','quality','respect', \n",
    "            'teamwork']"
   ]
  },
  {
   "cell_type": "code",
   "execution_count": 11,
   "metadata": {},
   "outputs": [],
   "source": [
    "# Generate Radar Plots with Generated Scores only\n",
    "\n",
    "for i in range(0,len(used_tickers)):\n",
    "\t# plot unfilled scatter plot \n",
    "\tpx.line_polar(data, r = pd.Series(data.loc[i, plt_vars].values), \n",
    "\t\t\t\ttheta=plt_vars,line_close=True\n",
    "\t\t\t\t) \n",
    "\n",
    "\tticker = data.loc[i,'tickers']\n",
    "\n",
    "\t# plot filled star plot \n",
    "\tfig = go.Figure(data=go.Scatterpolar( \n",
    "\tr=pd.Series(data.loc[i,plt_vars].values), \n",
    "\ttheta=plt_vars, \n",
    "\tfill='toself',\n",
    "\tname = data.loc[i,'tickers']\n",
    "\t))\n",
    "\n",
    "\tfig.update_layout( \n",
    "\tpolar=dict( \n",
    "\t\tradialaxis=dict(\n",
    "\t\tvisible=True, \n",
    "\t\trange=[0, 8]\n",
    "\t\t), \n",
    "\t), \n",
    "\tshowlegend=True\n",
    "\t)\n",
    "\n",
    "\t# plot star plot for comparison \n",
    "\tfig = go.Figure() \n",
    "\n",
    "\tfig.add_trace(go.Scatterpolar( \n",
    "\t\tr=pd.Series(data.loc[i, plt_vars].values), \n",
    "\t\ttheta=plt_vars, \n",
    "\t\tfill='toself',\n",
    "\t\tname = f'{ticker.upper()} 10K Score'\n",
    "\t)) \n",
    "\n",
    "\tfig.update_layout( \n",
    "\tpolar=dict( \n",
    "\t\tradialaxis=dict( \n",
    "\t\tvisible=True,\n",
    "\t\trange=[0, 8]\n",
    "\t\t\t)), \n",
    "\t\ttemplate = 'plotly_white',\n",
    "\n",
    "\tshowlegend=True\n",
    "\t) \n",
    "\n",
    "\texec(f'fig.write_image(\"images_10K/{data.loc[i, \"tickers\"]}.png\")')"
   ]
  },
  {
   "cell_type": "markdown",
   "metadata": {},
   "source": [
    "# Old"
   ]
  },
  {
   "cell_type": "code",
   "execution_count": null,
   "metadata": {},
   "outputs": [],
   "source": [
    "# Generate Radar Plots with Glassdoor Scores and Generated Scores\n",
    "\n",
    "for i in range(0,20):\t\n",
    "\t# plot unfilled scatter plot \n",
    "\tpx.line_polar(data, r = pd.Series(data.loc[i, plt_vars].values), \n",
    "\t\t\t\ttheta=plt_vars,line_close=True\n",
    "\t\t\t\t) \n",
    "\n",
    "\tticker = data.loc[i,'tickers']\n",
    "\n",
    "\t# plot filled star plot \n",
    "\tfig = go.Figure(data=go.Scatterpolar( \n",
    "\tr=pd.Series(data.loc[i,plt_vars].values), \n",
    "\ttheta=plt_vars, \n",
    "\tfill='toself',\n",
    "\tname = data.loc[i,'tickers']\n",
    "\t))\n",
    "\n",
    "\tfig.update_layout( \n",
    "\tpolar=dict( \n",
    "\t\tradialaxis=dict(\n",
    "\t\tvisible=True, \n",
    "\t\trange=[0, 8]\n",
    "\t\t), \n",
    "\t), \n",
    "\tshowlegend=True\n",
    "\t)\n",
    "\n",
    "\t# plot star plot for comparison \n",
    "\tfig = go.Figure() \n",
    "\n",
    "\tfig.add_trace(go.Scatterpolar( \n",
    "\t\tr=pd.Series(glassdoor.loc[i, plt_vars].values), \n",
    "\t\ttheta=plt_vars,\n",
    "\t\tfill='toself',\n",
    "\t\tname = f'{ticker.upper()} Glassdoor Score'\n",
    "\t)) \n",
    "\tfig.add_trace(go.Scatterpolar( \n",
    "\t\tr=pd.Series(data.loc[i, plt_vars].values), \n",
    "\t\ttheta=plt_vars, \n",
    "\t\tfill='toself',\n",
    "\t\tname = f'{ticker.upper()} 10K Score'\n",
    "\t)) \n",
    "\n",
    "\tfig.update_layout( \n",
    "\tpolar=dict( \n",
    "\t\tradialaxis=dict( \n",
    "\t\tvisible=True,\n",
    "\t\trange=[0, 8]\n",
    "\t\t\t)), \n",
    "\t\ttemplate = 'plotly_white',\n",
    "\n",
    "\tshowlegend=True\n",
    "\t) \n",
    "\t\n",
    "\texec(f'fig.write_image(\"images/{data.loc[i, \"tickers\"]}.png\")')"
   ]
  },
  {
   "cell_type": "code",
   "execution_count": null,
   "metadata": {},
   "outputs": [
    {
     "data": {
      "application/vnd.plotly.v1+json": {
       "config": {
        "plotlyServerURL": "https://plot.ly"
       },
       "data": [
        {
         "fill": "toself",
         "name": "AAPL Glassdoor Score",
         "r": [
          7,
          7.8,
          7,
          9.2,
          6.8
         ],
         "theta": [
          "innovation",
          "integrity",
          "quality",
          "respect",
          "teamwork"
         ],
         "type": "scatterpolar"
        },
        {
         "fill": "toself",
         "name": "AAPL 10K Score",
         "r": [
          2.521067208464606,
          2.689689758477777,
          3.239136791300257,
          5.069567089571229,
          2.48548368030477
         ],
         "theta": [
          "innovation",
          "integrity",
          "quality",
          "respect",
          "teamwork"
         ],
         "type": "scatterpolar"
        }
       ],
       "layout": {
        "polar": {
         "radialaxis": {
          "range": [
           0,
           10
          ],
          "visible": true
         }
        },
        "showlegend": true,
        "template": {
         "data": {
          "bar": [
           {
            "error_x": {
             "color": "#2a3f5f"
            },
            "error_y": {
             "color": "#2a3f5f"
            },
            "marker": {
             "line": {
              "color": "white",
              "width": 0.5
             },
             "pattern": {
              "fillmode": "overlay",
              "size": 10,
              "solidity": 0.2
             }
            },
            "type": "bar"
           }
          ],
          "barpolar": [
           {
            "marker": {
             "line": {
              "color": "white",
              "width": 0.5
             },
             "pattern": {
              "fillmode": "overlay",
              "size": 10,
              "solidity": 0.2
             }
            },
            "type": "barpolar"
           }
          ],
          "carpet": [
           {
            "aaxis": {
             "endlinecolor": "#2a3f5f",
             "gridcolor": "#C8D4E3",
             "linecolor": "#C8D4E3",
             "minorgridcolor": "#C8D4E3",
             "startlinecolor": "#2a3f5f"
            },
            "baxis": {
             "endlinecolor": "#2a3f5f",
             "gridcolor": "#C8D4E3",
             "linecolor": "#C8D4E3",
             "minorgridcolor": "#C8D4E3",
             "startlinecolor": "#2a3f5f"
            },
            "type": "carpet"
           }
          ],
          "choropleth": [
           {
            "colorbar": {
             "outlinewidth": 0,
             "ticks": ""
            },
            "type": "choropleth"
           }
          ],
          "contour": [
           {
            "colorbar": {
             "outlinewidth": 0,
             "ticks": ""
            },
            "colorscale": [
             [
              0,
              "#0d0887"
             ],
             [
              0.1111111111111111,
              "#46039f"
             ],
             [
              0.2222222222222222,
              "#7201a8"
             ],
             [
              0.3333333333333333,
              "#9c179e"
             ],
             [
              0.4444444444444444,
              "#bd3786"
             ],
             [
              0.5555555555555556,
              "#d8576b"
             ],
             [
              0.6666666666666666,
              "#ed7953"
             ],
             [
              0.7777777777777778,
              "#fb9f3a"
             ],
             [
              0.8888888888888888,
              "#fdca26"
             ],
             [
              1,
              "#f0f921"
             ]
            ],
            "type": "contour"
           }
          ],
          "contourcarpet": [
           {
            "colorbar": {
             "outlinewidth": 0,
             "ticks": ""
            },
            "type": "contourcarpet"
           }
          ],
          "heatmap": [
           {
            "colorbar": {
             "outlinewidth": 0,
             "ticks": ""
            },
            "colorscale": [
             [
              0,
              "#0d0887"
             ],
             [
              0.1111111111111111,
              "#46039f"
             ],
             [
              0.2222222222222222,
              "#7201a8"
             ],
             [
              0.3333333333333333,
              "#9c179e"
             ],
             [
              0.4444444444444444,
              "#bd3786"
             ],
             [
              0.5555555555555556,
              "#d8576b"
             ],
             [
              0.6666666666666666,
              "#ed7953"
             ],
             [
              0.7777777777777778,
              "#fb9f3a"
             ],
             [
              0.8888888888888888,
              "#fdca26"
             ],
             [
              1,
              "#f0f921"
             ]
            ],
            "type": "heatmap"
           }
          ],
          "heatmapgl": [
           {
            "colorbar": {
             "outlinewidth": 0,
             "ticks": ""
            },
            "colorscale": [
             [
              0,
              "#0d0887"
             ],
             [
              0.1111111111111111,
              "#46039f"
             ],
             [
              0.2222222222222222,
              "#7201a8"
             ],
             [
              0.3333333333333333,
              "#9c179e"
             ],
             [
              0.4444444444444444,
              "#bd3786"
             ],
             [
              0.5555555555555556,
              "#d8576b"
             ],
             [
              0.6666666666666666,
              "#ed7953"
             ],
             [
              0.7777777777777778,
              "#fb9f3a"
             ],
             [
              0.8888888888888888,
              "#fdca26"
             ],
             [
              1,
              "#f0f921"
             ]
            ],
            "type": "heatmapgl"
           }
          ],
          "histogram": [
           {
            "marker": {
             "pattern": {
              "fillmode": "overlay",
              "size": 10,
              "solidity": 0.2
             }
            },
            "type": "histogram"
           }
          ],
          "histogram2d": [
           {
            "colorbar": {
             "outlinewidth": 0,
             "ticks": ""
            },
            "colorscale": [
             [
              0,
              "#0d0887"
             ],
             [
              0.1111111111111111,
              "#46039f"
             ],
             [
              0.2222222222222222,
              "#7201a8"
             ],
             [
              0.3333333333333333,
              "#9c179e"
             ],
             [
              0.4444444444444444,
              "#bd3786"
             ],
             [
              0.5555555555555556,
              "#d8576b"
             ],
             [
              0.6666666666666666,
              "#ed7953"
             ],
             [
              0.7777777777777778,
              "#fb9f3a"
             ],
             [
              0.8888888888888888,
              "#fdca26"
             ],
             [
              1,
              "#f0f921"
             ]
            ],
            "type": "histogram2d"
           }
          ],
          "histogram2dcontour": [
           {
            "colorbar": {
             "outlinewidth": 0,
             "ticks": ""
            },
            "colorscale": [
             [
              0,
              "#0d0887"
             ],
             [
              0.1111111111111111,
              "#46039f"
             ],
             [
              0.2222222222222222,
              "#7201a8"
             ],
             [
              0.3333333333333333,
              "#9c179e"
             ],
             [
              0.4444444444444444,
              "#bd3786"
             ],
             [
              0.5555555555555556,
              "#d8576b"
             ],
             [
              0.6666666666666666,
              "#ed7953"
             ],
             [
              0.7777777777777778,
              "#fb9f3a"
             ],
             [
              0.8888888888888888,
              "#fdca26"
             ],
             [
              1,
              "#f0f921"
             ]
            ],
            "type": "histogram2dcontour"
           }
          ],
          "mesh3d": [
           {
            "colorbar": {
             "outlinewidth": 0,
             "ticks": ""
            },
            "type": "mesh3d"
           }
          ],
          "parcoords": [
           {
            "line": {
             "colorbar": {
              "outlinewidth": 0,
              "ticks": ""
             }
            },
            "type": "parcoords"
           }
          ],
          "pie": [
           {
            "automargin": true,
            "type": "pie"
           }
          ],
          "scatter": [
           {
            "fillpattern": {
             "fillmode": "overlay",
             "size": 10,
             "solidity": 0.2
            },
            "type": "scatter"
           }
          ],
          "scatter3d": [
           {
            "line": {
             "colorbar": {
              "outlinewidth": 0,
              "ticks": ""
             }
            },
            "marker": {
             "colorbar": {
              "outlinewidth": 0,
              "ticks": ""
             }
            },
            "type": "scatter3d"
           }
          ],
          "scattercarpet": [
           {
            "marker": {
             "colorbar": {
              "outlinewidth": 0,
              "ticks": ""
             }
            },
            "type": "scattercarpet"
           }
          ],
          "scattergeo": [
           {
            "marker": {
             "colorbar": {
              "outlinewidth": 0,
              "ticks": ""
             }
            },
            "type": "scattergeo"
           }
          ],
          "scattergl": [
           {
            "marker": {
             "colorbar": {
              "outlinewidth": 0,
              "ticks": ""
             }
            },
            "type": "scattergl"
           }
          ],
          "scattermapbox": [
           {
            "marker": {
             "colorbar": {
              "outlinewidth": 0,
              "ticks": ""
             }
            },
            "type": "scattermapbox"
           }
          ],
          "scatterpolar": [
           {
            "marker": {
             "colorbar": {
              "outlinewidth": 0,
              "ticks": ""
             }
            },
            "type": "scatterpolar"
           }
          ],
          "scatterpolargl": [
           {
            "marker": {
             "colorbar": {
              "outlinewidth": 0,
              "ticks": ""
             }
            },
            "type": "scatterpolargl"
           }
          ],
          "scatterternary": [
           {
            "marker": {
             "colorbar": {
              "outlinewidth": 0,
              "ticks": ""
             }
            },
            "type": "scatterternary"
           }
          ],
          "surface": [
           {
            "colorbar": {
             "outlinewidth": 0,
             "ticks": ""
            },
            "colorscale": [
             [
              0,
              "#0d0887"
             ],
             [
              0.1111111111111111,
              "#46039f"
             ],
             [
              0.2222222222222222,
              "#7201a8"
             ],
             [
              0.3333333333333333,
              "#9c179e"
             ],
             [
              0.4444444444444444,
              "#bd3786"
             ],
             [
              0.5555555555555556,
              "#d8576b"
             ],
             [
              0.6666666666666666,
              "#ed7953"
             ],
             [
              0.7777777777777778,
              "#fb9f3a"
             ],
             [
              0.8888888888888888,
              "#fdca26"
             ],
             [
              1,
              "#f0f921"
             ]
            ],
            "type": "surface"
           }
          ],
          "table": [
           {
            "cells": {
             "fill": {
              "color": "#EBF0F8"
             },
             "line": {
              "color": "white"
             }
            },
            "header": {
             "fill": {
              "color": "#C8D4E3"
             },
             "line": {
              "color": "white"
             }
            },
            "type": "table"
           }
          ]
         },
         "layout": {
          "annotationdefaults": {
           "arrowcolor": "#2a3f5f",
           "arrowhead": 0,
           "arrowwidth": 1
          },
          "autotypenumbers": "strict",
          "coloraxis": {
           "colorbar": {
            "outlinewidth": 0,
            "ticks": ""
           }
          },
          "colorscale": {
           "diverging": [
            [
             0,
             "#8e0152"
            ],
            [
             0.1,
             "#c51b7d"
            ],
            [
             0.2,
             "#de77ae"
            ],
            [
             0.3,
             "#f1b6da"
            ],
            [
             0.4,
             "#fde0ef"
            ],
            [
             0.5,
             "#f7f7f7"
            ],
            [
             0.6,
             "#e6f5d0"
            ],
            [
             0.7,
             "#b8e186"
            ],
            [
             0.8,
             "#7fbc41"
            ],
            [
             0.9,
             "#4d9221"
            ],
            [
             1,
             "#276419"
            ]
           ],
           "sequential": [
            [
             0,
             "#0d0887"
            ],
            [
             0.1111111111111111,
             "#46039f"
            ],
            [
             0.2222222222222222,
             "#7201a8"
            ],
            [
             0.3333333333333333,
             "#9c179e"
            ],
            [
             0.4444444444444444,
             "#bd3786"
            ],
            [
             0.5555555555555556,
             "#d8576b"
            ],
            [
             0.6666666666666666,
             "#ed7953"
            ],
            [
             0.7777777777777778,
             "#fb9f3a"
            ],
            [
             0.8888888888888888,
             "#fdca26"
            ],
            [
             1,
             "#f0f921"
            ]
           ],
           "sequentialminus": [
            [
             0,
             "#0d0887"
            ],
            [
             0.1111111111111111,
             "#46039f"
            ],
            [
             0.2222222222222222,
             "#7201a8"
            ],
            [
             0.3333333333333333,
             "#9c179e"
            ],
            [
             0.4444444444444444,
             "#bd3786"
            ],
            [
             0.5555555555555556,
             "#d8576b"
            ],
            [
             0.6666666666666666,
             "#ed7953"
            ],
            [
             0.7777777777777778,
             "#fb9f3a"
            ],
            [
             0.8888888888888888,
             "#fdca26"
            ],
            [
             1,
             "#f0f921"
            ]
           ]
          },
          "colorway": [
           "#636efa",
           "#EF553B",
           "#00cc96",
           "#ab63fa",
           "#FFA15A",
           "#19d3f3",
           "#FF6692",
           "#B6E880",
           "#FF97FF",
           "#FECB52"
          ],
          "font": {
           "color": "#2a3f5f"
          },
          "geo": {
           "bgcolor": "white",
           "lakecolor": "white",
           "landcolor": "white",
           "showlakes": true,
           "showland": true,
           "subunitcolor": "#C8D4E3"
          },
          "hoverlabel": {
           "align": "left"
          },
          "hovermode": "closest",
          "mapbox": {
           "style": "light"
          },
          "paper_bgcolor": "white",
          "plot_bgcolor": "white",
          "polar": {
           "angularaxis": {
            "gridcolor": "#EBF0F8",
            "linecolor": "#EBF0F8",
            "ticks": ""
           },
           "bgcolor": "white",
           "radialaxis": {
            "gridcolor": "#EBF0F8",
            "linecolor": "#EBF0F8",
            "ticks": ""
           }
          },
          "scene": {
           "xaxis": {
            "backgroundcolor": "white",
            "gridcolor": "#DFE8F3",
            "gridwidth": 2,
            "linecolor": "#EBF0F8",
            "showbackground": true,
            "ticks": "",
            "zerolinecolor": "#EBF0F8"
           },
           "yaxis": {
            "backgroundcolor": "white",
            "gridcolor": "#DFE8F3",
            "gridwidth": 2,
            "linecolor": "#EBF0F8",
            "showbackground": true,
            "ticks": "",
            "zerolinecolor": "#EBF0F8"
           },
           "zaxis": {
            "backgroundcolor": "white",
            "gridcolor": "#DFE8F3",
            "gridwidth": 2,
            "linecolor": "#EBF0F8",
            "showbackground": true,
            "ticks": "",
            "zerolinecolor": "#EBF0F8"
           }
          },
          "shapedefaults": {
           "line": {
            "color": "#2a3f5f"
           }
          },
          "ternary": {
           "aaxis": {
            "gridcolor": "#DFE8F3",
            "linecolor": "#A2B1C6",
            "ticks": ""
           },
           "baxis": {
            "gridcolor": "#DFE8F3",
            "linecolor": "#A2B1C6",
            "ticks": ""
           },
           "bgcolor": "white",
           "caxis": {
            "gridcolor": "#DFE8F3",
            "linecolor": "#A2B1C6",
            "ticks": ""
           }
          },
          "title": {
           "x": 0.05
          },
          "xaxis": {
           "automargin": true,
           "gridcolor": "#EBF0F8",
           "linecolor": "#EBF0F8",
           "ticks": "",
           "title": {
            "standoff": 15
           },
           "zerolinecolor": "#EBF0F8",
           "zerolinewidth": 2
          },
          "yaxis": {
           "automargin": true,
           "gridcolor": "#EBF0F8",
           "linecolor": "#EBF0F8",
           "ticks": "",
           "title": {
            "standoff": 15
           },
           "zerolinecolor": "#EBF0F8",
           "zerolinewidth": 2
          }
         }
        }
       }
      }
     },
     "metadata": {},
     "output_type": "display_data"
    }
   ],
   "source": [
    "# plot unfilled scatter plot \n",
    "px.line_polar(data, r = pd.Series(data.loc[0, plt_vars].values), \n",
    "\t\t\ttheta=plt_vars,line_close=True\n",
    "\t\t\t) \n",
    "\n",
    "ticker = data.loc[0,'tickers']\n",
    "\n",
    "# plot filled star plot \n",
    "fig = go.Figure(data=go.Scatterpolar( \n",
    "r=pd.Series(data.loc[0,plt_vars].values), \n",
    "theta=plt_vars, \n",
    "fill='toself',\n",
    "name = f'{ticker} 10K Score'\n",
    "))\n",
    "\n",
    "fig.update_layout( \n",
    "polar=dict( \n",
    "\tradialaxis=dict(\n",
    "\tvisible=True, \n",
    "\trange=[0, 10]\n",
    "\t), \n",
    "), \n",
    "showlegend=True\n",
    ")\n",
    "\n",
    "# plot star plot for comparison \n",
    "fig = go.Figure() \n",
    "\n",
    "fig.add_trace(go.Scatterpolar( \n",
    "\tr=pd.Series(glassdoor.loc[0,plt_vars].values), \n",
    "\ttheta=plt_vars,\n",
    "\tfill='toself',\n",
    "    name = f'{ticker.upper()} Glassdoor Score'\n",
    ")) \n",
    "fig.add_trace(go.Scatterpolar( \n",
    "\tr=pd.Series(data.loc[0,plt_vars].values), \n",
    "\ttheta=plt_vars, \n",
    "\tfill='toself',\n",
    "    name = f'{ticker.upper()} 10K Score'\n",
    ")) \n",
    "\n",
    "fig.update_layout( \n",
    "polar=dict( \n",
    "\tradialaxis=dict( \n",
    "\tvisible=True,\n",
    "    range=[0, 10]\n",
    "\t\t)), \n",
    "\ttemplate = 'plotly_white',\n",
    "\n",
    "showlegend=True\n",
    ") \n",
    "\n",
    "fig.show()"
   ]
  },
  {
   "cell_type": "code",
   "execution_count": null,
   "metadata": {},
   "outputs": [],
   "source": []
  }
 ],
 "metadata": {
  "kernelspec": {
   "display_name": "Python 3",
   "language": "python",
   "name": "python3"
  },
  "language_info": {
   "codemirror_mode": {
    "name": "ipython",
    "version": 3
   },
   "file_extension": ".py",
   "mimetype": "text/x-python",
   "name": "python",
   "nbconvert_exporter": "python",
   "pygments_lexer": "ipython3",
   "version": "3.11.3"
  }
 },
 "nbformat": 4,
 "nbformat_minor": 2
}
